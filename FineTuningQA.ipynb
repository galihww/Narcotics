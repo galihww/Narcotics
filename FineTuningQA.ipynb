{
 "cells": [
  {
   "cell_type": "code",
   "id": "initial_id",
   "metadata": {
    "collapsed": true,
    "ExecuteTime": {
     "end_time": "2024-12-19T09:26:09.302706Z",
     "start_time": "2024-12-19T09:26:05.807376Z"
    }
   },
   "source": [
    "import pandas as pd\n",
    "df = pd.read_csv('data/datasetqa.csv')\n",
    "df.head()"
   ],
   "outputs": [
    {
     "data": {
      "text/plain": [
       "   No               no_putusan lembaga_peradilan  \\\n",
       "0   1  642/Pid.Sus/2022/PN Bjm    PN BANJARMASIN   \n",
       "1   2  548/Pid.Sus/2022/PN Bjm    PN BANJARMASIN   \n",
       "2   3  643/Pid.Sus/2022/PN Bjm    PN BANJARMASIN   \n",
       "3   4  616/Pid.Sus/2022/PN Bjm    PN BANJARMASIN   \n",
       "4   5  647/Pid.Sus/2022/PN Bjm    PN BANJARMASIN   \n",
       "\n",
       "                                        barang_bukti  \\\n",
       "0  2 (dua) paket shabu dengan berat bersih 49,25 ...   \n",
       "1  Menetapkan barang bukti berupa : 2 (dua) paket...   \n",
       "2  Menetapkan agar barang bukti berupa : 2 (dua) ...   \n",
       "3  Menetapkan barang bukti berupa : 12 (dua belas...   \n",
       "4  Menetapkan agar barang bukti berupa : - 10 (se...   \n",
       "\n",
       "                                        amar_putusan  tokens  \\\n",
       "0  1. Menyatakan Terdakwa ARDIANSYAH als DIAN Bin...     467   \n",
       "1  Menyatakan Terdakwa Muhammad Arif als Arif Bin...     481   \n",
       "2  Menyatakan bahwa terdakwa AKHMAD AKBAR Als ABA...     401   \n",
       "3  Menyatakan Terdakwa Muhammad Ihwan Prasetyo al...     522   \n",
       "4  Menyatakan bahwa terdakwa EKO HERU SAPUTRO Als...     448   \n",
       "\n",
       "                                             konteks  \\\n",
       "0  Berdasarkan barang bukti berikut: 2 (dua) pake...   \n",
       "1  Berdasarkan barang bukti berikut: Menetapkan b...   \n",
       "2  Berdasarkan barang bukti berikut: Menetapkan a...   \n",
       "3  Berdasarkan barang bukti berikut: Menetapkan b...   \n",
       "4  Berdasarkan barang bukti berikut: Menetapkan a...   \n",
       "\n",
       "                                           questions  \\\n",
       "0  1. Apa saja barang bukti yang ditemukan dalam ...   \n",
       "1  Berikut adalah lima pertanyaan berdasarkan tek...   \n",
       "2  1. Apa saja barang bukti yang ditemukan dalam ...   \n",
       "3  1. Apa saja barang bukti yang berhasil ditemuk...   \n",
       "4  1. Apa saja barang bukti yang ditemukan dalam ...   \n",
       "\n",
       "                                              answer  \n",
       "0  1. Barang bukti yang ditemukan dalam kasus Ter...  \n",
       "1  1. Jenis narkotika yang ditemukan sebagai bara...  \n",
       "2  1. Barang bukti yang ditemukan dalam kasus tin...  \n",
       "3  1. Barang bukti yang berhasil ditemukan dalam ...  \n",
       "4  1. Barang bukti yang ditemukan dalam kasus ter...  "
      ],
      "text/html": [
       "<div>\n",
       "<style scoped>\n",
       "    .dataframe tbody tr th:only-of-type {\n",
       "        vertical-align: middle;\n",
       "    }\n",
       "\n",
       "    .dataframe tbody tr th {\n",
       "        vertical-align: top;\n",
       "    }\n",
       "\n",
       "    .dataframe thead th {\n",
       "        text-align: right;\n",
       "    }\n",
       "</style>\n",
       "<table border=\"1\" class=\"dataframe\">\n",
       "  <thead>\n",
       "    <tr style=\"text-align: right;\">\n",
       "      <th></th>\n",
       "      <th>No</th>\n",
       "      <th>no_putusan</th>\n",
       "      <th>lembaga_peradilan</th>\n",
       "      <th>barang_bukti</th>\n",
       "      <th>amar_putusan</th>\n",
       "      <th>tokens</th>\n",
       "      <th>konteks</th>\n",
       "      <th>questions</th>\n",
       "      <th>answer</th>\n",
       "    </tr>\n",
       "  </thead>\n",
       "  <tbody>\n",
       "    <tr>\n",
       "      <th>0</th>\n",
       "      <td>1</td>\n",
       "      <td>642/Pid.Sus/2022/PN Bjm</td>\n",
       "      <td>PN BANJARMASIN</td>\n",
       "      <td>2 (dua) paket shabu dengan berat bersih 49,25 ...</td>\n",
       "      <td>1. Menyatakan Terdakwa ARDIANSYAH als DIAN Bin...</td>\n",
       "      <td>467</td>\n",
       "      <td>Berdasarkan barang bukti berikut: 2 (dua) pake...</td>\n",
       "      <td>1. Apa saja barang bukti yang ditemukan dalam ...</td>\n",
       "      <td>1. Barang bukti yang ditemukan dalam kasus Ter...</td>\n",
       "    </tr>\n",
       "    <tr>\n",
       "      <th>1</th>\n",
       "      <td>2</td>\n",
       "      <td>548/Pid.Sus/2022/PN Bjm</td>\n",
       "      <td>PN BANJARMASIN</td>\n",
       "      <td>Menetapkan barang bukti berupa : 2 (dua) paket...</td>\n",
       "      <td>Menyatakan Terdakwa Muhammad Arif als Arif Bin...</td>\n",
       "      <td>481</td>\n",
       "      <td>Berdasarkan barang bukti berikut: Menetapkan b...</td>\n",
       "      <td>Berikut adalah lima pertanyaan berdasarkan tek...</td>\n",
       "      <td>1. Jenis narkotika yang ditemukan sebagai bara...</td>\n",
       "    </tr>\n",
       "    <tr>\n",
       "      <th>2</th>\n",
       "      <td>3</td>\n",
       "      <td>643/Pid.Sus/2022/PN Bjm</td>\n",
       "      <td>PN BANJARMASIN</td>\n",
       "      <td>Menetapkan agar barang bukti berupa : 2 (dua) ...</td>\n",
       "      <td>Menyatakan bahwa terdakwa AKHMAD AKBAR Als ABA...</td>\n",
       "      <td>401</td>\n",
       "      <td>Berdasarkan barang bukti berikut: Menetapkan a...</td>\n",
       "      <td>1. Apa saja barang bukti yang ditemukan dalam ...</td>\n",
       "      <td>1. Barang bukti yang ditemukan dalam kasus tin...</td>\n",
       "    </tr>\n",
       "    <tr>\n",
       "      <th>3</th>\n",
       "      <td>4</td>\n",
       "      <td>616/Pid.Sus/2022/PN Bjm</td>\n",
       "      <td>PN BANJARMASIN</td>\n",
       "      <td>Menetapkan barang bukti berupa : 12 (dua belas...</td>\n",
       "      <td>Menyatakan Terdakwa Muhammad Ihwan Prasetyo al...</td>\n",
       "      <td>522</td>\n",
       "      <td>Berdasarkan barang bukti berikut: Menetapkan b...</td>\n",
       "      <td>1. Apa saja barang bukti yang berhasil ditemuk...</td>\n",
       "      <td>1. Barang bukti yang berhasil ditemukan dalam ...</td>\n",
       "    </tr>\n",
       "    <tr>\n",
       "      <th>4</th>\n",
       "      <td>5</td>\n",
       "      <td>647/Pid.Sus/2022/PN Bjm</td>\n",
       "      <td>PN BANJARMASIN</td>\n",
       "      <td>Menetapkan agar barang bukti berupa : - 10 (se...</td>\n",
       "      <td>Menyatakan bahwa terdakwa EKO HERU SAPUTRO Als...</td>\n",
       "      <td>448</td>\n",
       "      <td>Berdasarkan barang bukti berikut: Menetapkan a...</td>\n",
       "      <td>1. Apa saja barang bukti yang ditemukan dalam ...</td>\n",
       "      <td>1. Barang bukti yang ditemukan dalam kasus ter...</td>\n",
       "    </tr>\n",
       "  </tbody>\n",
       "</table>\n",
       "</div>"
      ]
     },
     "execution_count": 1,
     "metadata": {},
     "output_type": "execute_result"
    }
   ],
   "execution_count": 1
  },
  {
   "metadata": {
    "ExecuteTime": {
     "end_time": "2024-12-19T09:41:54.289337Z",
     "start_time": "2024-12-19T09:41:40.018386Z"
    }
   },
   "cell_type": "code",
   "source": [
    "from sklearn.model_selection import train_test_split\n",
    "train_df, test_df = train_test_split(df, test_size=0.2, random_state=42)\n",
    "len(train_df), len(test_df)"
   ],
   "id": "1a002f2def3af1ae",
   "outputs": [
    {
     "data": {
      "text/plain": [
       "(40, 10)"
      ]
     },
     "execution_count": 2,
     "metadata": {},
     "output_type": "execute_result"
    }
   ],
   "execution_count": 2
  }
 ],
 "metadata": {
  "kernelspec": {
   "display_name": "Python 3",
   "language": "python",
   "name": "python3"
  },
  "language_info": {
   "codemirror_mode": {
    "name": "ipython",
    "version": 2
   },
   "file_extension": ".py",
   "mimetype": "text/x-python",
   "name": "python",
   "nbconvert_exporter": "python",
   "pygments_lexer": "ipython2",
   "version": "2.7.6"
  }
 },
 "nbformat": 4,
 "nbformat_minor": 5
}
