{
 "cells": [
  {
   "cell_type": "code",
   "id": "initial_id",
   "metadata": {
    "collapsed": true,
    "ExecuteTime": {
     "end_time": "2024-12-28T05:44:59.290608Z",
     "start_time": "2024-12-28T05:44:59.190848Z"
    }
   },
   "source": [
    "import ast\n",
    "import pandas as pd\n",
    "df = pd.read_csv('data/split_embedqa.csv')\n",
    "df.head()"
   ],
   "outputs": [
    {
     "data": {
      "text/plain": [
       "                                             Context  \\\n",
       "0  Berdasarkan barang bukti berikut: 2 (dua) pake...   \n",
       "1  Berdasarkan barang bukti berikut: 2 (dua) pake...   \n",
       "2  Berdasarkan barang bukti berikut: 2 (dua) pake...   \n",
       "3  Berdasarkan barang bukti berikut: 2 (dua) pake...   \n",
       "4  Berdasarkan barang bukti berikut: 2 (dua) pake...   \n",
       "\n",
       "                                           Questions  \\\n",
       "0  1. Apa barang bukti yang ditemukan dalam kasus...   \n",
       "1  2. Apa jenis tindak pidana yang terbukti dilak...   \n",
       "2  3. Berapa lama pidana penjara yang dijatuhi ke...   \n",
       "3  4. Apa yang akan terjadi jika Terdakwa tidak d...   \n",
       "4  5. Apa keputusan hakim mengenai status barang ...   \n",
       "\n",
       "                                             Answers  \\\n",
       "0  1. Barang bukti yang ditemukan dalam kasus tin...   \n",
       "1  2. Jenis tindak pidana yang terbukti dilakukan...   \n",
       "2  3. Pidana penjara yang dijatuhi kepada Terdakw...   \n",
       "3  4. Jika Terdakwa tidak dapat membayar pidana d...   \n",
       "4  5. Keputusan hakim mengenai status barang bukt...   \n",
       "\n",
       "                                           embedding  \\\n",
       "0  [0.02253102, -0.049208853, -0.025729991, 0.027...   \n",
       "1  [-0.04201769, 0.00092172425, -0.03313809, 0.03...   \n",
       "2  [-0.017504673, 0.0043885163, 0.04658693, 0.031...   \n",
       "3  [-0.04546008, 0.022565776, 0.020183947, 0.0533...   \n",
       "4  [0.014472564, -0.018997155, -0.050127976, 0.03...   \n",
       "\n",
       "                                           Embedding  \n",
       "0  [0.02253102, -0.049208853, -0.025729991, 0.027...  \n",
       "1  [-0.041427433, 0.0008820686, -0.03380097, 0.03...  \n",
       "2  [-0.017504673, 0.0043885163, 0.04658693, 0.031...  \n",
       "3  [-0.04546008, 0.022565776, 0.020183947, 0.0533...  \n",
       "4  [0.014472564, -0.018997155, -0.050127976, 0.03...  "
      ],
      "text/html": [
       "<div>\n",
       "<style scoped>\n",
       "    .dataframe tbody tr th:only-of-type {\n",
       "        vertical-align: middle;\n",
       "    }\n",
       "\n",
       "    .dataframe tbody tr th {\n",
       "        vertical-align: top;\n",
       "    }\n",
       "\n",
       "    .dataframe thead th {\n",
       "        text-align: right;\n",
       "    }\n",
       "</style>\n",
       "<table border=\"1\" class=\"dataframe\">\n",
       "  <thead>\n",
       "    <tr style=\"text-align: right;\">\n",
       "      <th></th>\n",
       "      <th>Context</th>\n",
       "      <th>Questions</th>\n",
       "      <th>Answers</th>\n",
       "      <th>embedding</th>\n",
       "      <th>Embedding</th>\n",
       "    </tr>\n",
       "  </thead>\n",
       "  <tbody>\n",
       "    <tr>\n",
       "      <th>0</th>\n",
       "      <td>Berdasarkan barang bukti berikut: 2 (dua) pake...</td>\n",
       "      <td>1. Apa barang bukti yang ditemukan dalam kasus...</td>\n",
       "      <td>1. Barang bukti yang ditemukan dalam kasus tin...</td>\n",
       "      <td>[0.02253102, -0.049208853, -0.025729991, 0.027...</td>\n",
       "      <td>[0.02253102, -0.049208853, -0.025729991, 0.027...</td>\n",
       "    </tr>\n",
       "    <tr>\n",
       "      <th>1</th>\n",
       "      <td>Berdasarkan barang bukti berikut: 2 (dua) pake...</td>\n",
       "      <td>2. Apa jenis tindak pidana yang terbukti dilak...</td>\n",
       "      <td>2. Jenis tindak pidana yang terbukti dilakukan...</td>\n",
       "      <td>[-0.04201769, 0.00092172425, -0.03313809, 0.03...</td>\n",
       "      <td>[-0.041427433, 0.0008820686, -0.03380097, 0.03...</td>\n",
       "    </tr>\n",
       "    <tr>\n",
       "      <th>2</th>\n",
       "      <td>Berdasarkan barang bukti berikut: 2 (dua) pake...</td>\n",
       "      <td>3. Berapa lama pidana penjara yang dijatuhi ke...</td>\n",
       "      <td>3. Pidana penjara yang dijatuhi kepada Terdakw...</td>\n",
       "      <td>[-0.017504673, 0.0043885163, 0.04658693, 0.031...</td>\n",
       "      <td>[-0.017504673, 0.0043885163, 0.04658693, 0.031...</td>\n",
       "    </tr>\n",
       "    <tr>\n",
       "      <th>3</th>\n",
       "      <td>Berdasarkan barang bukti berikut: 2 (dua) pake...</td>\n",
       "      <td>4. Apa yang akan terjadi jika Terdakwa tidak d...</td>\n",
       "      <td>4. Jika Terdakwa tidak dapat membayar pidana d...</td>\n",
       "      <td>[-0.04546008, 0.022565776, 0.020183947, 0.0533...</td>\n",
       "      <td>[-0.04546008, 0.022565776, 0.020183947, 0.0533...</td>\n",
       "    </tr>\n",
       "    <tr>\n",
       "      <th>4</th>\n",
       "      <td>Berdasarkan barang bukti berikut: 2 (dua) pake...</td>\n",
       "      <td>5. Apa keputusan hakim mengenai status barang ...</td>\n",
       "      <td>5. Keputusan hakim mengenai status barang bukt...</td>\n",
       "      <td>[0.014472564, -0.018997155, -0.050127976, 0.03...</td>\n",
       "      <td>[0.014472564, -0.018997155, -0.050127976, 0.03...</td>\n",
       "    </tr>\n",
       "  </tbody>\n",
       "</table>\n",
       "</div>"
      ]
     },
     "execution_count": 78,
     "metadata": {},
     "output_type": "execute_result"
    }
   ],
   "execution_count": 78
  },
  {
   "metadata": {
    "ExecuteTime": {
     "end_time": "2024-12-28T05:45:00.955033Z",
     "start_time": "2024-12-28T05:45:00.939308Z"
    }
   },
   "cell_type": "code",
   "source": [
    "from openai import OpenAI\n",
    "import os"
   ],
   "id": "d93f000af0d11ea2",
   "outputs": [],
   "execution_count": 79
  },
  {
   "metadata": {
    "ExecuteTime": {
     "end_time": "2024-12-28T05:45:02.443552Z",
     "start_time": "2024-12-28T05:45:02.427832Z"
    }
   },
   "cell_type": "code",
   "source": "os.environ[\"OPENAI_API_KEY\"] = \"YOUR_API_KEY\"",
   "id": "6bd8bb35c92ac249",
   "outputs": [],
   "execution_count": 80
  },
  {
   "metadata": {
    "ExecuteTime": {
     "end_time": "2024-12-28T05:45:03.771800Z",
     "start_time": "2024-12-28T05:45:03.725758Z"
    }
   },
   "cell_type": "code",
   "source": "client = OpenAI()",
   "id": "9405db0bf6233b2",
   "outputs": [],
   "execution_count": 81
  },
  {
   "metadata": {
    "ExecuteTime": {
     "end_time": "2024-12-28T05:45:04.589324Z",
     "start_time": "2024-12-28T05:45:04.584347Z"
    }
   },
   "cell_type": "code",
   "source": [
    "def embedding_query(query):\n",
    "    try:\n",
    "        response = client.embeddings.create(\n",
    "            model=\"text-embedding-3-small\",\n",
    "            input=query,\n",
    "            encoding_format=\"float\"\n",
    "        )\n",
    "        return response.data[0].embedding\n",
    "    except Exception as e:\n",
    "        print(f\"An error occurred: {e}\")"
   ],
   "id": "46379e55ee9d4901",
   "outputs": [],
   "execution_count": 82
  },
  {
   "metadata": {
    "ExecuteTime": {
     "end_time": "2024-12-28T05:46:42.645214Z",
     "start_time": "2024-12-28T05:46:41.195255Z"
    }
   },
   "cell_type": "code",
   "source": [
    "from scipy.spatial.distance import cosine\n",
    "import pandas as pd\n",
    "\n",
    "def rank_distances(query_embedding, embeddings_list):\n",
    "    distances = [(i, cosine(query_embedding, ast.literal_eval(embedding))) for i, embedding in enumerate(embeddings_list)]\n",
    "    return sorted(distances, key=lambda x: x[1])\n",
    "\n",
    "query = \"Apa saja barang bukti yang ditemukan dan dijadikan dasar dalam putusan narkotika?\"\n",
    "query_embedding = embedding_query(query)\n",
    "ranked_results = rank_distances(query_embedding, df[\"Embedding\"])\n",
    "\n",
    "# Retrieve the top 5 results from ranked_results with respective ranks and answers\n",
    "top_5_results = [\n",
    "    {\"No\": idx + 1, \"Rank\": rank, \"Answer\": df[\"Answers\"][i]}\n",
    "    for idx, (i, rank) in enumerate(ranked_results[:5])\n",
    "]\n",
    "\n",
    "# Create a DataFrame for display\n",
    "top_5_df = pd.DataFrame(top_5_results)\n",
    "top_5_df"
   ],
   "id": "d34d9b56cc01b622",
   "outputs": [
    {
     "data": {
      "text/plain": [
       "   No      Rank                                             Answer\n",
       "0   1  0.277329  1. Jenis barang bukti yang disebutkan dalam ke...\n",
       "1   2  0.283003  1. Jenis narkotika yang ditemukan sebagai bara...\n",
       "2   3  0.283558  1. Jenis narkotika yang ditemukan sebagai bara...\n",
       "3   4  0.289102  3. Barang bukti yang dirampas untuk dimusnahka...\n",
       "4   5  0.294043  3. Barang bukti lain yang disita selain narkot..."
      ],
      "text/html": [
       "<div>\n",
       "<style scoped>\n",
       "    .dataframe tbody tr th:only-of-type {\n",
       "        vertical-align: middle;\n",
       "    }\n",
       "\n",
       "    .dataframe tbody tr th {\n",
       "        vertical-align: top;\n",
       "    }\n",
       "\n",
       "    .dataframe thead th {\n",
       "        text-align: right;\n",
       "    }\n",
       "</style>\n",
       "<table border=\"1\" class=\"dataframe\">\n",
       "  <thead>\n",
       "    <tr style=\"text-align: right;\">\n",
       "      <th></th>\n",
       "      <th>No</th>\n",
       "      <th>Rank</th>\n",
       "      <th>Answer</th>\n",
       "    </tr>\n",
       "  </thead>\n",
       "  <tbody>\n",
       "    <tr>\n",
       "      <th>0</th>\n",
       "      <td>1</td>\n",
       "      <td>0.277329</td>\n",
       "      <td>1. Jenis barang bukti yang disebutkan dalam ke...</td>\n",
       "    </tr>\n",
       "    <tr>\n",
       "      <th>1</th>\n",
       "      <td>2</td>\n",
       "      <td>0.283003</td>\n",
       "      <td>1. Jenis narkotika yang ditemukan sebagai bara...</td>\n",
       "    </tr>\n",
       "    <tr>\n",
       "      <th>2</th>\n",
       "      <td>3</td>\n",
       "      <td>0.283558</td>\n",
       "      <td>1. Jenis narkotika yang ditemukan sebagai bara...</td>\n",
       "    </tr>\n",
       "    <tr>\n",
       "      <th>3</th>\n",
       "      <td>4</td>\n",
       "      <td>0.289102</td>\n",
       "      <td>3. Barang bukti yang dirampas untuk dimusnahka...</td>\n",
       "    </tr>\n",
       "    <tr>\n",
       "      <th>4</th>\n",
       "      <td>5</td>\n",
       "      <td>0.294043</td>\n",
       "      <td>3. Barang bukti lain yang disita selain narkot...</td>\n",
       "    </tr>\n",
       "  </tbody>\n",
       "</table>\n",
       "</div>"
      ]
     },
     "execution_count": 86,
     "metadata": {},
     "output_type": "execute_result"
    }
   ],
   "execution_count": 86
  }
 ],
 "metadata": {
  "kernelspec": {
   "display_name": "Python 3",
   "language": "python",
   "name": "python3"
  },
  "language_info": {
   "codemirror_mode": {
    "name": "ipython",
    "version": 2
   },
   "file_extension": ".py",
   "mimetype": "text/x-python",
   "name": "python",
   "nbconvert_exporter": "python",
   "pygments_lexer": "ipython2",
   "version": "2.7.6"
  }
 },
 "nbformat": 4,
 "nbformat_minor": 5
}
